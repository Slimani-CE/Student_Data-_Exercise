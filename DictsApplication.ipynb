{
 "cells": [
  {
   "cell_type": "code",
   "execution_count": 1,
   "metadata": {},
   "outputs": [
    {
     "name": "stdout",
     "output_type": "stream",
     "text": [
      "range(15, 180)\n"
     ]
    }
   ],
   "source": [
    "#Data\n",
    "students= ['Sara', 'Zineb', 'Mohamed', 'Ali', 'Khadija', 'Idriss', 'Najat', 'Nadia', 'Marouane', 'Ahmed']\n",
    "#---------------------------------------------------------------------------------------------------\n",
    "genders  = [   'F'   ,   'F' ,  'M'  ,   'M' ,  'F'  ,    'M'  ,  'F'   ,   'F'  ,  'M'  ,  'M' ]\n",
    "groups  = [    3    ,    1  ,   1   ,    3  ,   3   ,     1   ,   2    ,    2   ,   1   ,   3]\n",
    "regions=['S','C','N']\n",
    "\n",
    "#---------------------------------------------------------------------------------------------------\n",
    "#scores   = {'DS': length of DS is the number of DS\n",
    "#                  The element of each DS is the mark of each student\n",
    "#           'TP': length of TP is the number of TP\n",
    "#                  The element of each TP is the mark of each student\n",
    "scores   = {'DS' : [[36, 58, 46, 96, 9, 82, 83, 66, 35, 47],\n",
    "                   [46, 50, 55, 21, 22, 76, 51, 90, 96, 48],\n",
    "                   [56, 54, 53, 17, 31, 74, 11, 53, 98, 67],\n",
    "                   [77, 38, 8, 74, 39, 39, 52, 66, 38, 86],\n",
    "                   [93, 21, 7, 33, 10, 97, 48, 96, 24, 7],\n",
    "                   [97, 98, 95, 75, 64, 9, 48, 51, 45, 82]],\n",
    "\n",
    "           'TP': [[48, 63, 98, 47, 25, 90, 100, 21, 41, 44],\n",
    "                  [73, 79, 78, 39, 11, 100, 57, 96, 13, 99]]}\n",
    "#---------------------------------------------------------------------------------------------------\n",
    "# attendance = { Day : [ Duration_session : [ delay of 10 sessions]]}\n",
    "attendance = {'Monday'    : [60, [3, 31, 1, 56, 15, 49, 48, 20, 2, 38]],\n",
    "              'Tuesday'   : [120,[8, 3, 2, 7, 5, 9, 4, 0, 6, 1]],\n",
    "              'Wednesday' : [60, [2, 7, 14, 6, 9, 15, 12, 13, 10, 0]],\n",
    "              'Friday'    : [120,[12, 50, 0, 15, 11, 10, 3, 6, 14, 2]]}\n",
    "#---------------------------------------------------------------------------------------------------\n",
    "# min_att = {Attendance_statut : Late_Minute}\n",
    "min_att = {'Present': range(0,1,1), 'Late' : range(1,6,1), 'Very Late': range(6,15,1), 'Absent': range(15,180,1)} \n",
    "# dic_att = { Attendance_statut : rate}\n",
    "dic_att = {'Present': 1.0, 'Late': 0.97, 'Very Late': 0.93, 'Absent': 0.9} \n",
    "dic_all_data={'students':students,'scores':scores,'attendance':attendance}\n",
    "\n",
    "print(min_att['Absent'])"
   ]
  },
  {
   "cell_type": "code",
   "execution_count": 2,
   "metadata": {},
   "outputs": [
    {
     "name": "stdout",
     "output_type": "stream",
     "text": [
      "['Sara', 'Ali', 'Khadija', 'Ahmed']\n"
     ]
    }
   ],
   "source": [
    "# Q1. Print the name of members of the group 3.\n",
    "# Sol1 utilisant zip\n",
    "def getNamesByGroup(group):\n",
    "    list_names = []\n",
    "    for name, etuGroup in zip(students, groups):\n",
    "        if etuGroup == group:\n",
    "            list_names.append(name)\n",
    "    return list_names\n",
    "\n",
    "if __name__ == \"__main__\":\n",
    "    print(getNamesByGroup(3))\n"
   ]
  },
  {
   "cell_type": "code",
   "execution_count": 3,
   "metadata": {},
   "outputs": [
    {
     "name": "stdout",
     "output_type": "stream",
     "text": [
      "{1: {'F': 1, 'M': 3}, 2: {'F': 2, 'M': 0}, 3: {'F': 2, 'M': 2}}\n"
     ]
    }
   ],
   "source": [
    "# Q2. Print the number of each gender in each group.\n",
    "def getNbrGender():\n",
    "    result = {}\n",
    "    for gender, group in zip(genders, groups):\n",
    "        if result.get(group) == None:\n",
    "            result[group] = {'F': 0, 'M': 0}\n",
    "        result[group][gender] += 1\n",
    "    return result\n",
    "\n",
    "def profSolution():\n",
    "    d = {}\n",
    "    # Initialisation\n",
    "    for gr in set(groups):\n",
    "        d[gr] = {'F': 0, 'M': 0}\n",
    "    '''\n",
    "        other way:\n",
    "            d = [gr: {'F': 0, 'M': 0}]\n",
    "    '''\n",
    "    # Traitement\n",
    "    for gr, group in zip(groups, genders):\n",
    "        d[gr][group] += 1\n",
    "    return d\n",
    "\n",
    "if __name__ == \"__main__\":\n",
    "    print(profSolution())"
   ]
  },
  {
   "cell_type": "code",
   "execution_count": 4,
   "metadata": {},
   "outputs": [
    {
     "name": "stdout",
     "output_type": "stream",
     "text": [
      "['Zineb', 'Ali', 'Khadija', 'Idriss', 'Najat', 'Nadia', 'Ahmed']\n"
     ]
    }
   ],
   "source": [
    "# Q3. Print the name of students who were absent for Monday seance.\n",
    "def get_absents(all_data, day):\n",
    "    result = []\n",
    "    for student, late in zip(all_data['students'], all_data['attendance'][day][1]):\n",
    "        if late in min_att['Absent']:\n",
    "            result.append(student)\n",
    "    return result\n",
    "\n",
    "print(get_absents(dic_all_data, 'Monday'))"
   ]
  },
  {
   "cell_type": "code",
   "execution_count": 5,
   "metadata": {},
   "outputs": [
    {
     "name": "stdout",
     "output_type": "stream",
     "text": [
      "Nadia\n"
     ]
    }
   ],
   "source": [
    "# Q4. Print the name of students with more than 50 points in all DS.\n",
    "# Find students with more than 50 points in all DS\n",
    "for i, student in enumerate(students):\n",
    "    student_scores = [score for score_list in scores['DS'] for score in score_list]\n",
    "    if all(score > 50 for score in student_scores[i::len(students)]):\n",
    "        print(student)"
   ]
  },
  {
   "cell_type": "code",
   "execution_count": 6,
   "metadata": {},
   "outputs": [
    {
     "name": "stdout",
     "output_type": "stream",
     "text": [
      "Mean mark (DS) for group 1: 54.00\n",
      "Mean mark (DS) for group 2: 59.58\n",
      "Mean mark (DS) for group 3: 51.37\n"
     ]
    }
   ],
   "source": [
    "# Q5. Print the mean mark (DS) of all student of each group.\n",
    "for group in set(groups):\n",
    "    group_scores = []\n",
    "    for i, student in enumerate(students):\n",
    "        if groups[i] == group:\n",
    "            student_scores = [score for score_list in scores['DS'] for score in score_list]\n",
    "            group_scores.append(sum(student_scores[i::len(students)]) / len(student_scores[i::len(students)]))\n",
    "    print(f\"Mean mark (DS) for group {group}: {sum(group_scores) / len(group_scores):.2f}\")"
   ]
  },
  {
   "cell_type": "code",
   "execution_count": 7,
   "metadata": {},
   "outputs": [
    {
     "name": "stdout",
     "output_type": "stream",
     "text": [
      "Seance with least delay for group 1: Tuesday\n",
      "Seance with least delay for group 2: Tuesday\n",
      "Seance with least delay for group 3: Tuesday\n"
     ]
    }
   ],
   "source": [
    "# Q6. Print the seance for each group with less delay in min.\n",
    "# Find seance with least delay for each group\n",
    "for group in set(groups):\n",
    "    group_delays = []\n",
    "    for day, data in attendance.items():\n",
    "        duration, delays = data\n",
    "        for i, student in enumerate(students):\n",
    "            if groups[i] == group:\n",
    "                group_delays.append(delays[i % len(delays)])\n",
    "    min_delay = min(group_delays)\n",
    "    for day, data in attendance.items():\n",
    "        duration, delays = data\n",
    "        if min_delay in delays:\n",
    "            print(f\"Seance with least delay for group {group}: {day}\")\n",
    "            break\n"
   ]
  },
  {
   "cell_type": "code",
   "execution_count": 8,
   "metadata": {},
   "outputs": [
    {
     "name": "stdout",
     "output_type": "stream",
     "text": [
      "Student with lowest mark (of all the DS) for M gender: Mohamed\n",
      "Student with lowest mark (of all the DS) for F gender: Khadija\n"
     ]
    }
   ],
   "source": [
    "# Q7. Print the name of the student who has the lower mark (of all the DS) in each gender. \n",
    "# Find student with lowest mark (of all the DS) for each gender\n",
    "for gender in set(genders):\n",
    "    gender_scores = []\n",
    "    for i, student in enumerate(students):\n",
    "        if genders[i] == gender:\n",
    "            student_scores = [score for score_list in scores['DS'] for score in score_list]\n",
    "            gender_scores.append((student, min(student_scores[i::len(students)])))\n",
    "    lowest_mark = min(gender_scores, key=lambda x: x[1])\n",
    "    print(f\"Student with lowest mark (of all the DS) for {gender} gender: {lowest_mark[0]}\")\n"
   ]
  },
  {
   "cell_type": "code",
   "execution_count": 9,
   "metadata": {},
   "outputs": [
    {
     "name": "stdout",
     "output_type": "stream",
     "text": [
      "Mean mark of TPs for M gender: 64.90\n",
      "Mean mark of TPs for F gender: 57.30\n"
     ]
    }
   ],
   "source": [
    "# Q8. Print the mean mark of TPs for each gender.\n",
    "# Find mean mark of TPs for each gender\n",
    "for gender in set(genders):\n",
    "    gender_scores = []\n",
    "    for i, student in enumerate(students):\n",
    "        if genders[i] == gender:\n",
    "            student_scores = [score for score_list in scores['TP'] for score in score_list]\n",
    "            gender_scores.append(sum(student_scores[i::len(students)]) / len(student_scores[i::len(students)]))\n",
    "    print(f\"Mean mark of TPs for {gender} gender: {sum(gender_scores) / len(gender_scores):.2f}\")\n"
   ]
  },
  {
   "cell_type": "code",
   "execution_count": 10,
   "metadata": {},
   "outputs": [
    {
     "name": "stdout",
     "output_type": "stream",
     "text": [
      "Student with lowest minutes of delay in all seances: Mohamed\n"
     ]
    }
   ],
   "source": [
    "# Q9. Print the name of the student who has the lower minutes of delay in all seances.\n",
    "# Find student with lowest minutes of delay in all seances\n",
    "student_delays = {}\n",
    "for day, data in attendance.items():\n",
    "    duration, delays = data\n",
    "    for i, student in enumerate(students):\n",
    "        if student not in student_delays:\n",
    "            student_delays[student] = 0\n",
    "        student_delays[student] += delays[i % len(delays)]\n",
    "\n",
    "lowest_delay = min(student_delays, key=student_delays.get)\n",
    "print(f\"Student with lowest minutes of delay in all seances: {lowest_delay}\")\n"
   ]
  },
  {
   "cell_type": "code",
   "execution_count": 11,
   "metadata": {},
   "outputs": [],
   "source": [
    "# Q10. Print the name of  the student with a mean mark more than 80 in all TPs and an Attendance Rate more than 0.95.\n",
    "# Find student with mean mark > 80 in all TPs and attendance rate > 0.95\n",
    "for i, student in enumerate(students):\n",
    "    student_scores = [score for score_list in scores['TP'] for score in score_list]\n",
    "    mean_mark = sum(student_scores[i::len(students)]) / len(student_scores[i::len(students)])\n",
    "    attendance_count = 0\n",
    "    attendance_duration = 0\n",
    "    for day, data in attendance.items():\n",
    "        duration, delays = data\n",
    "        attendance_count += 1\n",
    "        attendance_duration += duration\n",
    "        attendance_rate = attendance_duration / attendance_count / duration\n",
    "    if mean_mark > 80 and attendance_rate > 0.95:\n",
    "        print(f\"Student with mean mark > 80 in all TPs and attendance rate > 0.95: {student}\")\n",
    "\n"
   ]
  },
  {
   "cell_type": "code",
   "execution_count": 12,
   "metadata": {},
   "outputs": [
    {
     "name": "stdout",
     "output_type": "stream",
     "text": [
      "Student with highest minutes of delay in third seance: Idriss\n"
     ]
    }
   ],
   "source": [
    "# Q11. Print the name of the student who has the higher minutes of delay in the third seance.\n",
    "# Find student with highest minutes of delay in third seance\n",
    "third_seance_delays = []\n",
    "for i, student in enumerate(students):\n",
    "    third_seance_delays.append((student, attendance['Wednesday'][1][i % len(attendance['Wednesday'][1])]))\n",
    "highest_delay = max(third_seance_delays, key=lambda x: x[1])\n",
    "print(f\"Student with highest minutes of delay in third seance: {highest_delay[0]}\")\n"
   ]
  },
  {
   "cell_type": "code",
   "execution_count": 13,
   "metadata": {},
   "outputs": [
    {
     "name": "stdout",
     "output_type": "stream",
     "text": [
      "Male student in group 1 with highest score in second DS: Marouane\n"
     ]
    }
   ],
   "source": [
    "# Q13. Print the name of the Male student in group 1 with the highest note in the second DS.\n",
    "# Find male student in group 1 with highest score in second DS\n",
    "group1_male_scores = []\n",
    "for i, student in enumerate(students):\n",
    "    if genders[i] == 'M' and groups[i] == 1:\n",
    "        group1_male_scores.append((student, scores['DS'][1][i % len(scores['DS'][1])]))\n",
    "highest_score = max(group1_male_scores, key=lambda x: x[1])\n",
    "print(f\"Male student in group 1 with highest score in second DS: {highest_score[0]}\")\n"
   ]
  },
  {
   "cell_type": "code",
   "execution_count": 14,
   "metadata": {},
   "outputs": [
    {
     "name": "stdout",
     "output_type": "stream",
     "text": [
      "Student who progresses after each DS: Sara\n"
     ]
    }
   ],
   "source": [
    "# Q14. Print the name of the students who progress after each DS.\n",
    "# Find students who progress after each DS\n",
    "for i, student in enumerate(students):\n",
    "    student_scores = [score for score_list in scores['DS'] for score in score_list]\n",
    "    student_scores = student_scores[i::len(students)]\n",
    "    progressed = True\n",
    "    for j in range(1, len(student_scores)):\n",
    "        if student_scores[j] < student_scores[j-1]:\n",
    "            progressed = False\n",
    "            break\n",
    "    if progressed:\n",
    "        print(f\"Student who progresses after each DS: {student}\")\n"
   ]
  },
  {
   "cell_type": "code",
   "execution_count": 15,
   "metadata": {},
   "outputs": [
    {
     "name": "stdout",
     "output_type": "stream",
     "text": [
      "Student with highest number of attendance for Monday and Friday seances: Sara\n"
     ]
    }
   ],
   "source": [
    "# Q15. Print the name of the student with the highest number of attendance for both Monday & Friday seances.\n",
    "# Find student with highest number of attendance for Monday and Friday seances\n",
    "student_attendance = {}\n",
    "for i, student in enumerate(students):\n",
    "    student_attendance[student] = 0\n",
    "    for day, data in attendance.items():\n",
    "        if day in ['Monday', 'Friday']:\n",
    "            student_attendance[student] += data[0]\n",
    "highest_attendance = max(student_attendance, key=student_attendance.get)\n",
    "print(f\"Student with highest number of attendance for Monday and Friday seances: {highest_attendance}\")\n"
   ]
  },
  {
   "cell_type": "code",
   "execution_count": 22,
   "metadata": {},
   "outputs": [
    {
     "name": "stdout",
     "output_type": "stream",
     "text": [
      "0\n",
      "3\n",
      "4\n"
     ]
    },
    {
     "ename": "IndexError",
     "evalue": "list index out of range",
     "output_type": "error",
     "traceback": [
      "\u001b[1;31m---------------------------------------------------------------------------\u001b[0m",
      "\u001b[1;31mIndexError\u001b[0m                                Traceback (most recent call last)",
      "Cell \u001b[1;32mIn [22], line 17\u001b[0m\n\u001b[0;32m     15\u001b[0m \u001b[38;5;28;01mfor\u001b[39;00m j, group \u001b[38;5;129;01min\u001b[39;00m \u001b[38;5;28menumerate\u001b[39m(groups):\n\u001b[0;32m     16\u001b[0m     \u001b[38;5;28;01mif\u001b[39;00m group \u001b[38;5;241m==\u001b[39m groups[i]:\n\u001b[1;32m---> 17\u001b[0m         group_ds_scores\u001b[38;5;241m.\u001b[39mextend(\u001b[43mscores\u001b[49m\u001b[43m[\u001b[49m\u001b[38;5;124;43m'\u001b[39;49m\u001b[38;5;124;43mDS\u001b[39;49m\u001b[38;5;124;43m'\u001b[39;49m\u001b[43m]\u001b[49m\u001b[43m[\u001b[49m\u001b[43mj\u001b[49m\u001b[43m]\u001b[49m)\n\u001b[0;32m     18\u001b[0m         \u001b[38;5;28mprint\u001b[39m(j)\n\u001b[0;32m     19\u001b[0m group_ds_scores\u001b[38;5;241m.\u001b[39msort()\n",
      "\u001b[1;31mIndexError\u001b[0m: list index out of range"
     ]
    }
   ],
   "source": [
    "# Q16. Print the Finale_note for each student.\n",
    "# Calculate and print final note for each student\n",
    "#  * Finale_note = (Mean_of_DS *.6 + Mean_of_TPs * 0.15 + Median_of_group_DS * 0.25) * Attendance_rate\n",
    "for i, student in enumerate(students):\n",
    "    # Calculate mean of DS and TPs for current student\n",
    "    student_ds_scores = [score for score_list in scores['DS'] for score in score_list]\n",
    "    student_ds_scores = student_ds_scores[i::len(students)]\n",
    "    mean_ds = sum(student_ds_scores) / len(student_ds_scores)\n",
    "    student_tp_scores = [score for score_list in scores['TP'] for score in score_list]\n",
    "    student_tp_scores = student_tp_scores[i::len(students)]\n",
    "    mean_tp = sum(student_tp_scores) / len(student_tp_scores)\n",
    "    \n",
    "    # Calculate median of DS scores for current student's group\n",
    "    group_ds_scores = []\n",
    "    for j, group in enumerate(groups):\n",
    "        if group == groups[i]:\n",
    "            group_ds_scores.extend(scores['DS'][j])\n",
    "    group_ds_scores.sort()\n",
    "    median_group_ds = group_ds_scores[len(group_ds_scores) // 2]\n",
    "    \n",
    "    # Calculate attendance rate for current student\n",
    "    attendance_rate = 0\n",
    "    for day, data in attendance.items():\n",
    "        attendance_status = 'Present'\n",
    "        for delay in data[1][i % len(data[1])]:\n",
    "            if delay in min_att['Late']:\n",
    "                attendance_status = 'Late'\n",
    "            elif delay in min_att['Very Late']:\n",
    "                attendance_status = 'Very Late'\n",
    "            elif delay in min_att['Absent']:\n",
    "                attendance_status = 'Absent'\n",
    "                break\n",
    "        attendance_rate += dic_att[attendance_status] * (data[0] / 60)\n",
    "    attendance_rate /= len(attendance)\n",
    "    \n",
    "    # Calculate and print final note for current student\n",
    "    final_note = (mean_ds * 0.6 + mean_tp * 0.15 + median_group_ds * 0.25) * attendance_rate\n",
    "    print(f\"Final note for {student}: {final_note:.2f}\")\n"
   ]
  }
 ],
 "metadata": {
  "kernelspec": {
   "display_name": "Python 3.10.7 64-bit",
   "language": "python",
   "name": "python3"
  },
  "language_info": {
   "codemirror_mode": {
    "name": "ipython",
    "version": 3
   },
   "file_extension": ".py",
   "mimetype": "text/x-python",
   "name": "python",
   "nbconvert_exporter": "python",
   "pygments_lexer": "ipython3",
   "version": "3.10.7"
  },
  "orig_nbformat": 4,
  "vscode": {
   "interpreter": {
    "hash": "adcdc9546cb159aa502d4ffbef58f8603f8667de5a2c8f1c98b160dfdc201d52"
   }
  }
 },
 "nbformat": 4,
 "nbformat_minor": 2
}
